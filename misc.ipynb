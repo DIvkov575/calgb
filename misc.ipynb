{
 "cells": [
  {
   "cell_type": "code",
   "execution_count": 85,
   "id": "0e3da757-70ed-43a0-9a8d-c50dfffcd9db",
   "metadata": {
    "scrolled": true
   },
   "outputs": [
    {
     "name": "stdout",
     "output_type": "stream",
     "text": [
      "Requirement already satisfied: pandas in /afs/csail.mit.edu/u/d/divkov57/miniconda3/envs/my_env/lib/python3.13/site-packages (2.3.1)\n",
      "Collecting pysam\n",
      "  Downloading pysam-0.23.3-cp313-cp313-manylinux_2_28_x86_64.whl.metadata (1.7 kB)\n",
      "Requirement already satisfied: numpy>=1.26.0 in /afs/csail.mit.edu/u/d/divkov57/miniconda3/envs/my_env/lib/python3.13/site-packages (from pandas) (2.3.2)\n",
      "Requirement already satisfied: python-dateutil>=2.8.2 in /afs/csail.mit.edu/u/d/divkov57/miniconda3/envs/my_env/lib/python3.13/site-packages (from pandas) (2.9.0.post0)\n",
      "Requirement already satisfied: pytz>=2020.1 in /afs/csail.mit.edu/u/d/divkov57/miniconda3/envs/my_env/lib/python3.13/site-packages (from pandas) (2025.2)\n",
      "Requirement already satisfied: tzdata>=2022.7 in /afs/csail.mit.edu/u/d/divkov57/miniconda3/envs/my_env/lib/python3.13/site-packages (from pandas) (2025.2)\n",
      "Requirement already satisfied: six>=1.5 in /afs/csail.mit.edu/u/d/divkov57/miniconda3/envs/my_env/lib/python3.13/site-packages (from python-dateutil>=2.8.2->pandas) (1.17.0)\n",
      "Downloading pysam-0.23.3-cp313-cp313-manylinux_2_28_x86_64.whl (27.3 MB)\n",
      "\u001b[2K   \u001b[90m━━━━━━━━━━━━━━━━━━━━━━━━━━━━━━━━━━━━━━━━\u001b[0m \u001b[32m27.3/27.3 MB\u001b[0m \u001b[31m13.6 MB/s\u001b[0m eta \u001b[36m0:00:00\u001b[0m00:01\u001b[0m00:01\u001b[0m\n",
      "\u001b[?25hInstalling collected packages: pysam\n",
      "Successfully installed pysam-0.23.3\n"
     ]
    }
   ],
   "source": [
    "!pip install pandas pysam"
   ]
  },
  {
   "cell_type": "code",
   "execution_count": 25,
   "id": "bcf5c9dd-7fe9-4183-82fa-f17b436d0ff0",
   "metadata": {},
   "outputs": [],
   "source": [
    "import pandas as pd\n",
    "import pathlib\n",
    "import os\n",
    "import json\n",
    "import itertools\n",
    "\n",
    "\n",
    "root = pathlib.Path(\"/data/rbg/shared/datasets/TCGA/\")"
   ]
  },
  {
   "cell_type": "code",
   "execution_count": 26,
   "id": "357fe98f-ff8f-491f-a341-c28ee0885dd3",
   "metadata": {},
   "outputs": [
    {
     "data": {
      "text/plain": [
       "['Genomic',\n",
       " '.DS_Store',\n",
       " 'RNA-Seq',\n",
       " 'etoposide_testis',\n",
       " 'Pathology',\n",
       " 'cohort_BLC.2025-06-30.tsv']"
      ]
     },
     "execution_count": 26,
     "metadata": {},
     "output_type": "execute_result"
    }
   ],
   "source": [
    "os.listdir(f'{root}')"
   ]
  },
  {
   "cell_type": "code",
   "execution_count": 27,
   "id": "78f3692c-1145-4ac8-a990-5fcca84b489b",
   "metadata": {},
   "outputs": [
    {
     "data": {
      "text/plain": [
       "['mutations.gdc_manifest.2025-07-07.175232.txt',\n",
       " 'copy_number.gdc_sample_sheet.2025-07-09.tsv',\n",
       " 'downloads',\n",
       " 'copy_number.gdc_manifest.2025-07-09.094531.txt',\n",
       " 'mutations.metadata.repository.2025-07-07.json',\n",
       " 'copy_number.metadata.repository.2025-07-09.json',\n",
       " 'mutations.gdc_sample_sheet.2025-07-07.tsv',\n",
       " 'mutations.gdc_manifest_sample.txt',\n",
       " 'cn_downloads']"
      ]
     },
     "execution_count": 27,
     "metadata": {},
     "output_type": "execute_result"
    }
   ],
   "source": [
    "os.listdir(f'{root}/Genomic')"
   ]
  },
  {
   "cell_type": "code",
   "execution_count": 84,
   "id": "764fee82-385c-4d27-bf81-56fcb5a30301",
   "metadata": {},
   "outputs": [
    {
     "data": {
      "text/plain": [
       "['logs',\n",
       " '395734ab-97d1-483d-b895-5eb6d3e0c747.wgs.ASCAT.gene_level.copy_number_variation.tsv']"
      ]
     },
     "execution_count": 84,
     "metadata": {},
     "output_type": "execute_result"
    }
   ],
   "source": [
    "os.listdir(f'{root}/Genomic/cn_downloads/b0456cf2-91f3-4390-b180-75eca8e7f9ab')"
   ]
  },
  {
   "cell_type": "code",
   "execution_count": 29,
   "id": "4ff7abc9-760c-4205-88fc-7ebb9f0dc7c2",
   "metadata": {},
   "outputs": [
    {
     "data": {
      "text/plain": [
       "['gdc_manifest.2025-06-30.162706.txt',\n",
       " 'image_info_table_sample_n10.csv',\n",
       " 'trident',\n",
       " 'metadata',\n",
       " 'gdc_sample_sheet.2025-06-30.tsv',\n",
       " 'H-optimus-1_features',\n",
       " 'images',\n",
       " 'image_info_table_v02.csv',\n",
       " 'image_info_table.csv']"
      ]
     },
     "execution_count": 29,
     "metadata": {},
     "output_type": "execute_result"
    }
   ],
   "source": [
    "os.listdir(f'{root}/Pathology')"
   ]
  },
  {
   "cell_type": "code",
   "execution_count": null,
   "id": "ff7e183e-6060-4f6f-b8eb-a77bd792eef6",
   "metadata": {},
   "outputs": [],
   "source": []
  },
  {
   "cell_type": "code",
   "execution_count": 103,
   "id": "6c7420d6-6e73-4cef-9452-a54e6793b3f6",
   "metadata": {},
   "outputs": [],
   "source": [
    "ids = pd.read_csv(\"genomics_ids.csv\")"
   ]
  },
  {
   "cell_type": "code",
   "execution_count": null,
   "id": "82a1b8ed-ab92-4e92-9481-70eaebea0a15",
   "metadata": {},
   "outputs": [],
   "source": [
    "os.scandir()"
   ]
  },
  {
   "cell_type": "code",
   "execution_count": 106,
   "id": "d13404c1-1fec-4fc4-8610-ec98656f9015",
   "metadata": {},
   "outputs": [
    {
     "name": "stdout",
     "output_type": "stream",
     "text": [
      "/data/rbg/shared/datasets/TCGA/Genomics/downloads/00003d15-c0e8-43ae-b468-6cda39e4fc50/\n"
     ]
    }
   ],
   "source": [
    "import gzip\n",
    "import pysam\n",
    "import pandas as pd\n",
    "\n",
    "foo = []\n",
    "\n",
    "for id in ids[\"case_id\"].iloc[0:1]:\n",
    "    id_path = f\"{root}/Genomics/downloads/{id}/\"\n",
    "\n",
    "    print(id_path)\n",
    "    if os.path.exists(id_path):\n",
    "        print(\"a\")\n",
    "    if os.path.isdir(id_path):\n",
    "        print(\"b\")\n",
    "        vcf_paths = [path for path in os.listdir(id_path) if path.endswith(\".vcf\")]\n",
    "        # assert(len(vcf_paths) == 1)\n",
    "        if len(vcf_paths) != 1:\n",
    "           print(vcf_paths) \n",
    "        \n",
    "        vcf_path = pathlib.Path(f\"{id_path}/{tsv_paths[0]}\")\n",
    "\n",
    "        vcf = pysam.VariantFile(vcf_path)\n",
    "        \n",
    "        records = []\n",
    "        for rec in vcf.fetch():\n",
    "            records.append({\n",
    "                'CHROM': rec.contig,\n",
    "                'POS': rec.pos,\n",
    "                'ID': rec.id,\n",
    "                'REF': rec.ref,\n",
    "                'ALT': ','.join(str(a) for a in rec.alts),\n",
    "                'QUAL': rec.qual,\n",
    "                'FILTER': list(rec.filter.keys()),\n",
    "                **rec.info  # INFO fields\n",
    "            })\n",
    "            \n",
    "            df = pd.DataFrame(records)\n",
    "\n",
    "            foo.append(df)\n",
    "\n",
    "            \n",
    "\n",
    "\n",
    "            \n",
    "            \n",
    "\n",
    "        \n",
    "    \n",
    "    # rna_seq = listdir(f\"{root}/RNA-Seq/downloads/{id}/\"):w\n",
    "    "
   ]
  },
  {
   "cell_type": "code",
   "execution_count": 97,
   "id": "c26294b0-8020-4363-981c-66c45fa425da",
   "metadata": {},
   "outputs": [
    {
     "ename": "IndexError",
     "evalue": "list index out of range",
     "output_type": "error",
     "traceback": [
      "\u001b[31m---------------------------------------------------------------------------\u001b[39m",
      "\u001b[31mIndexError\u001b[39m                                Traceback (most recent call last)",
      "\u001b[36mCell\u001b[39m\u001b[36m \u001b[39m\u001b[32mIn[97]\u001b[39m\u001b[32m, line 1\u001b[39m\n\u001b[32m----> \u001b[39m\u001b[32m1\u001b[39m foo[\u001b[32m0\u001b[39m]\n",
      "\u001b[31mIndexError\u001b[39m: list index out of range"
     ]
    }
   ],
   "source": [
    "\n",
    "\n",
    "\n",
    "\n",
    "foo[0]"
   ]
  },
  {
   "cell_type": "code",
   "execution_count": null,
   "id": "634d6a8a-36d3-4f00-9193-416f4c06d8e7",
   "metadata": {},
   "outputs": [],
   "source": []
  }
 ],
 "metadata": {
  "kernelspec": {
   "display_name": "Python 3 (ipykernel)",
   "language": "python",
   "name": "python3"
  },
  "language_info": {
   "codemirror_mode": {
    "name": "ipython",
    "version": 3
   },
   "file_extension": ".py",
   "mimetype": "text/x-python",
   "name": "python",
   "nbconvert_exporter": "python",
   "pygments_lexer": "ipython3",
   "version": "3.13.5"
  }
 },
 "nbformat": 4,
 "nbformat_minor": 5
}
